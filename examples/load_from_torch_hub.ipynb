{
 "cells": [
  {
   "cell_type": "code",
   "execution_count": 1,
   "id": "9b830273-2964-4af8-9daf-c990a84a0fb5",
   "metadata": {},
   "outputs": [],
   "source": [
    "import torch"
   ]
  },
  {
   "cell_type": "code",
   "execution_count": 2,
   "id": "5d9ea5d0-7e43-4a24-8c68-666bf924000e",
   "metadata": {},
   "outputs": [
    {
     "name": "stderr",
     "output_type": "stream",
     "text": [
      "Using cache found in C:\\Users\\USER/.cache\\torch\\hub\\r4m-t1n_text-sentiment-pytorch_main\n"
     ]
    },
    {
     "name": "stdout",
     "output_type": "stream",
     "text": [
      "Loaded pretrained model with Val Accuracy: 0.8545.\n"
     ]
    }
   ],
   "source": [
    "repo_path = \"r4m-t1n/text-sentiment-pytorch:main\"\n",
    "model = torch.hub.load(repo_path, 'sentiment_classifier', pretrained=True, device='cuda')"
   ]
  },
  {
   "cell_type": "code",
   "execution_count": 3,
   "id": "6cb0a3e6-3c54-4f7f-ace1-520b12b22a26",
   "metadata": {},
   "outputs": [],
   "source": [
    "reviews = [ #from The Falcon and the Winter Soldier User reviews\n",
    "    \"Just meh. Action scenes are good. Writing... Not so good.\", #6/10\n",
    "    \"The performances are top-notch. Anthony Mackie and Sebastian Stan deliver powerful performances as Sam Wilson and Bucky Barnes, respectively. Their chemistry is undeniable, and their characters' journeys are both compelling and heartbreaking. The supporting cast, including Wyatt Russell as villain, is equally impressive.\", #10/10\n",
    "    \"Awesome TV Series that is dynamic and highly spontaneous. It is highly captivating and gives a feel of every genre. Good and classic experience of adventure. It is bold, exciting and constantly surprising. The story line is awesome to follow particularly the concepts on race, tragedy, terrorism. The Cast did a great job of keeping the entertainment entrusting. I liked the setting and background. This was a wonderful show and quite compelling to watch. It ignited great excitement and worth the time. I would watch this over again. This time with the right audience for the type of series. Well done on this one!\", #10/10\n",
    "    \"Far too political. Not enough action. Daniel Bruhl best thing in it.\", #4/10\n",
    "    \"Had some good moments but the plot was a letdown. The villain and her problems with the GRC weren't convincing enough. It also felt like they tried too hard to push current events and politics into the storyline. Disappointing.\", #5/10\n",
    "    \"The plot & writing of this show is so shallow & transparent it's painful to watch. Everything that you think is going to happen after episode 1 or 2 is exactly what happens in subsequent episodes; which is made all the more painful by them laying on political correctness, race baiting & globalist BS thicker & heavier with each episode.\", #1/10\n",
    "    \"I was so disappointed. When did Cap's shield turn into a bouncy ball?\", #1/10\n",
    "    \"This is a good show, it is definitely a solid 8 as that is the rating I have most episodes, the action and story are good, the characters are great as you would expect and some nice shocking moments, some negative would be it gets a little slow in some episodes and seems to go in a circle, but other then that I really enjoyed it.\", #7/10\n",
    "    \"Amazing show. Absolutely loved it. Good story with great performances. Last episode was awesome. Definitely a must watch.\", #7/10\n",
    "    \"SO bad compared to WandaVision, Loki and Hawkeye. Terrible in comparison. What the writers thinking. How can any marvel fan give this a 10. It's a 6 at best. Writing sucked. Costume was dumb. No character arch. Not even sure what the story was or who the villain was. It's so so sad that people are giving this 10. DOES NOT DESERVE IT. Shame on the writers and those who pushed it forward and approved it. Not at all Marvel standard. Down there with Thor Dark World. Worse than that. I don't consider it cannon and refuse to accept Sam as \\\"the new captain America.\\\"\" #1/10\n",
    "]"
   ]
  },
  {
   "cell_type": "code",
   "execution_count": 4,
   "id": "a7e3151c",
   "metadata": {},
   "outputs": [
    {
     "name": "stderr",
     "output_type": "stream",
     "text": [
      "Using cache found in C:\\Users\\USER/.cache\\torch\\hub\\r4m-t1n_text-sentiment-pytorch_main\n"
     ]
    }
   ],
   "source": [
    "word2idx = torch.hub.load(repo_path, 'word2idx')"
   ]
  },
  {
   "cell_type": "code",
   "execution_count": 5,
   "id": "57771e88",
   "metadata": {},
   "outputs": [
    {
     "name": "stdout",
     "output_type": "stream",
     "text": [
      "Text:\n",
      " ------------------------------ \n",
      " Just meh. Action scenes are good. Writing... Not so good. \n",
      " ------------------------------\n",
      "  Predicted Sentiment: (-)Negative (Probability: 0.1933)\n",
      "\n",
      "\n",
      "Text:\n",
      " ------------------------------ \n",
      " The performances are top-notch. Anthony Mackie and Sebastian Stan deliver powerful performances as Sam Wilson and Bucky Barnes, respectively. Their chemistry is undeniable, and their characters' journeys are both compelling and heartbreaking. The supporting cast, including Wyatt Russell as villain, is equally impressive. \n",
      " ------------------------------\n",
      "  Predicted Sentiment: (+)Positive (Probability: 0.9334)\n",
      "\n",
      "\n",
      "Text:\n",
      " ------------------------------ \n",
      " Awesome TV Series that is dynamic and highly spontaneous. It is highly captivating and gives a feel of every genre. Good and classic experience of adventure. It is bold, exciting and constantly surprising. The story line is awesome to follow particularly the concepts on race, tragedy, terrorism. The Cast did a great job of keeping the entertainment entrusting. I liked the setting and background. This was a wonderful show and quite compelling to watch. It ignited great excitement and worth the time. I would watch this over again. This time with the right audience for the type of series. Well done on this one! \n",
      " ------------------------------\n",
      "  Predicted Sentiment: (+)Positive (Probability: 0.9656)\n",
      "\n",
      "\n",
      "Text:\n",
      " ------------------------------ \n",
      " Far too political. Not enough action. Daniel Bruhl best thing in it. \n",
      " ------------------------------\n",
      "  Predicted Sentiment: (-)Negative (Probability: 0.0336)\n",
      "\n",
      "\n",
      "Text:\n",
      " ------------------------------ \n",
      " Had some good moments but the plot was a letdown. The villain and her problems with the GRC weren't convincing enough. It also felt like they tried too hard to push current events and politics into the storyline. Disappointing. \n",
      " ------------------------------\n",
      "  Predicted Sentiment: (-)Negative (Probability: 0.0879)\n",
      "\n",
      "\n",
      "Text:\n",
      " ------------------------------ \n",
      " The plot & writing of this show is so shallow & transparent it's painful to watch. Everything that you think is going to happen after episode 1 or 2 is exactly what happens in subsequent episodes; which is made all the more painful by them laying on political correctness, race baiting & globalist BS thicker & heavier with each episode. \n",
      " ------------------------------\n",
      "  Predicted Sentiment: (-)Negative (Probability: 0.1039)\n",
      "\n",
      "\n",
      "Text:\n",
      " ------------------------------ \n",
      " I was so disappointed. When did Cap's shield turn into a bouncy ball? \n",
      " ------------------------------\n",
      "  Predicted Sentiment: (-)Negative (Probability: 0.0043)\n",
      "\n",
      "\n",
      "Text:\n",
      " ------------------------------ \n",
      " This is a good show, it is definitely a solid 8 as that is the rating I have most episodes, the action and story are good, the characters are great as you would expect and some nice shocking moments, some negative would be it gets a little slow in some episodes and seems to go in a circle, but other then that I really enjoyed it. \n",
      " ------------------------------\n",
      "  Predicted Sentiment: (+)Positive (Probability: 0.9807)\n",
      "\n",
      "\n",
      "Text:\n",
      " ------------------------------ \n",
      " Amazing show. Absolutely loved it. Good story with great performances. Last episode was awesome. Definitely a must watch. \n",
      " ------------------------------\n",
      "  Predicted Sentiment: (+)Positive (Probability: 0.9924)\n",
      "\n",
      "\n",
      "Text:\n",
      " ------------------------------ \n",
      " SO bad compared to WandaVision, Loki and Hawkeye. Terrible in comparison. What the writers thinking. How can any marvel fan give this a 10. It's a 6 at best. Writing sucked. Costume was dumb. No character arch. Not even sure what the story was or who the villain was. It's so so sad that people are giving this 10. DOES NOT DESERVE IT. Shame on the writers and those who pushed it forward and approved it. Not at all Marvel standard. Down there with Thor Dark World. Worse than that. I don't consider it cannon and refuse to accept Sam as \"the new captain America.\" \n",
      " ------------------------------\n",
      "  Predicted Sentiment: (-)Negative (Probability: 0.0546)\n",
      "\n",
      "\n"
     ]
    },
    {
     "name": "stderr",
     "output_type": "stream",
     "text": [
      "Using cache found in C:\\Users\\USER/.cache\\torch\\hub\\r4m-t1n_text-sentiment-pytorch_main\n",
      "Using cache found in C:\\Users\\USER/.cache\\torch\\hub\\r4m-t1n_text-sentiment-pytorch_main\n",
      "Using cache found in C:\\Users\\USER/.cache\\torch\\hub\\r4m-t1n_text-sentiment-pytorch_main\n",
      "Using cache found in C:\\Users\\USER/.cache\\torch\\hub\\r4m-t1n_text-sentiment-pytorch_main\n",
      "Using cache found in C:\\Users\\USER/.cache\\torch\\hub\\r4m-t1n_text-sentiment-pytorch_main\n",
      "Using cache found in C:\\Users\\USER/.cache\\torch\\hub\\r4m-t1n_text-sentiment-pytorch_main\n",
      "Using cache found in C:\\Users\\USER/.cache\\torch\\hub\\r4m-t1n_text-sentiment-pytorch_main\n",
      "Using cache found in C:\\Users\\USER/.cache\\torch\\hub\\r4m-t1n_text-sentiment-pytorch_main\n",
      "Using cache found in C:\\Users\\USER/.cache\\torch\\hub\\r4m-t1n_text-sentiment-pytorch_main\n",
      "Using cache found in C:\\Users\\USER/.cache\\torch\\hub\\r4m-t1n_text-sentiment-pytorch_main\n"
     ]
    }
   ],
   "source": [
    "for review in reviews:\n",
    "    print(\"Text:\\n\", \"-\"*30, \"\\n\", review, \"\\n\", \"-\"*30)\n",
    "    sentiment, probability = torch.hub.load(repo_path, 'predict_text',\n",
    "                                            model, review, word2idx, \"cuda\")\n",
    "    print(f\"  Predicted Sentiment: {sentiment} (Probability: {probability:.4f})\\n\\n\")"
   ]
  },
  {
   "cell_type": "code",
   "execution_count": null,
   "id": "467c49ad",
   "metadata": {},
   "outputs": [],
   "source": []
  }
 ],
 "metadata": {
  "kernelspec": {
   "display_name": "Python 3 (ipykernel)",
   "language": "python",
   "name": "python3"
  },
  "language_info": {
   "codemirror_mode": {
    "name": "ipython",
    "version": 3
   },
   "file_extension": ".py",
   "mimetype": "text/x-python",
   "name": "python",
   "nbconvert_exporter": "python",
   "pygments_lexer": "ipython3",
   "version": "3.10.5"
  }
 },
 "nbformat": 4,
 "nbformat_minor": 5
}
